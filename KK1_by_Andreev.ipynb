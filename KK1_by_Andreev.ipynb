{
  "metadata": {
    "kernelspec": {
      "name": "python",
      "display_name": "Python (Pyodide)",
      "language": "python"
    },
    "language_info": {
      "codemirror_mode": {
        "name": "python",
        "version": 3
      },
      "file_extension": ".py",
      "mimetype": "text/x-python",
      "name": "python",
      "nbconvert_exporter": "python",
      "pygments_lexer": "ipython3",
      "version": "3.8"
    }
  },
  "nbformat_minor": 5,
  "nbformat": 4,
  "cells": [
    {
      "id": "acde1216-444f-4ddd-8dab-93c9a0759e03",
      "cell_type": "markdown",
      "source": "## ПРОСТОЕ ЧИСЛО ИЛИ НЕТ",
      "metadata": {}
    },
    {
      "id": "67923bb2-715b-4449-ad26-3f3cd20e7910",
      "cell_type": "code",
      "source": "def is_prime(n):\n    if n <= 1:\n        return False\n    if n == 2:\n        return True\n    if n % 2 == 0:\n        return False\n    for i in range(3, int(n**0.5) + 1, 2):\n        if n % i == 0:\n            return False\n    return True\n\n# Заменяем input() на фиксированное значение\nnumber = 14  # Пример числа\nprint(is_prime(number))",
      "metadata": {
        "trusted": true
      },
      "outputs": [
        {
          "name": "stdout",
          "output_type": "stream",
          "text": "False\n"
        }
      ],
      "execution_count": 8
    },
    {
      "id": "3e8965a5-33a1-4e55-90a8-e8509821c506",
      "cell_type": "markdown",
      "source": "## РЕШЕТО ЭРАТОСФЕНА ДЛЯ ПОИСКА ПРОСТЫХ ЧИСЕЛ",
      "metadata": {}
    },
    {
      "id": "0ff6595e-c5f5-4360-872a-ef3dc9118d44",
      "cell_type": "markdown",
      "source": "**Работа алгоритма: у нас есть число, до которого нам надо посчитать простые числа**\n1) заполняем массив до числа n [1, 2, 3, 4, ..., 88]\n2) числа 0 и 1 не простые, зануляем\n3) начинаем с 2, зануляем её и закуляем все числа кратные 2\n4) аналогично с 3 5 7 ..\n5) в начальном массиве удаляем нули и получаем ответ",
      "metadata": {
        "collapsed": true,
        "jupyter": {
          "outputs_hidden": true
        }
      }
    },
    {
      "id": "a5431f20-7757-42a2-b13c-4994b5da4e47",
      "cell_type": "code",
      "source": "def eratosthenes(n):     # n - число, ДО которого хотим найти простые числа\n    primes = list(range(n + 1))\n    primes[1] = 0        # зануляем единицу, так как она не простое число\n    for i in primes:\n        if i > 1:\n            for j in range(2 * i, len(primes), i):\n                primes[j] = 0\n    primes = [i for i in primes if i != 0]  # удаляем нули из измененного списка\n    return primes\n\n\nnumber = 88\nprint(*eratosthenes(number))",
      "metadata": {
        "trusted": true
      },
      "outputs": [
        {
          "name": "stdout",
          "output_type": "stream",
          "text": "2 3 5 7 11 13 17 19 23 29 31 37 41 43 47 53 59 61 67 71 73 79 83\n"
        }
      ],
      "execution_count": 12
    },
    {
      "id": "5e9e02db-9da7-49b1-b924-d8c4fd36d097",
      "cell_type": "markdown",
      "source": "## ПУЗЫРЁК ",
      "metadata": {}
    },
    {
      "id": "4b176961-b966-4b95-8e69-3ab479fcd05d",
      "cell_type": "markdown",
      "source": "Асимптотическая сложность алгоритма сортировки пузырьком **в худшем и среднем случае — O(n²), в лучшем случае — O(n)**, где n — размер массива. \n\nВнутри функции используется флаг flag, который помогает определить, были ли совершены обмены на текущей итерации. Если обменов не было, сортировка завершается досрочно, что сокращает время выполнения программы. ",
      "metadata": {}
    },
    {
      "id": "f9172ca2-69cd-4a47-a22c-4133a21ba394",
      "cell_type": "code",
      "source": "def bubble(n):\n    flag = True\n    while flag:\n        flag = False\n        for i in range(len(n) - 1):\n            if n[i] > n[i + 1]:\n                n[i], n[i + 1] = n[i + 1], n[i]\n                flag = True\n\n    return n\n\n\nnumbers =  [3, 2, 1, 5]    #list(map(int, input().split()))\nprint(*bubble(numbers))",
      "metadata": {
        "trusted": true
      },
      "outputs": [
        {
          "name": "stdout",
          "output_type": "stream",
          "text": "1 2 3 5\n"
        }
      ],
      "execution_count": 18
    },
    {
      "id": "dca9ab41-ba1f-418e-bd43-28dbb3979819",
      "cell_type": "markdown",
      "source": "## СОРТИРОВКА ВСТАВКАМИ",
      "metadata": {}
    },
    {
      "id": "853a3dea-085e-4f04-b50b-dd2c20ea44a1",
      "cell_type": "markdown",
      "source": "Асимптотика **в среднем и худшем случае – O(n²), в лучшем – O(n)**\n\nОсновная идея алгоритма — разделение массива на две части: отсортированную и неотсортированную. На каждом шаге алгоритма число переходит от неотсортированной к отсортированной части.\n\n**Алгоритм работы**:\n\n1) Берётся каждый неотсортированный элемент n (правая часть) и сравнивается со значениями в отсортированном подмассиве (левая часть) справа налево, пока не определяется подходящая позиция для n (как только найдётся число, которое меньше, чем n, тогда ставим его после n).\n2) Затем сдвигаются все отсортированные элементы, которые находятся справа от этого числа вправо, чтобы образовалось место для n, и вставляется он туда, тем самым расширяя отсортированную часть массива.\n   \nЭто действие повторяется до тех пор, пока не будет осуществлена полная сортировка всех исходных данных. (P.s. в коде я выводил каждый шаг сортировки)",
      "metadata": {}
    },
    {
      "id": "022971d1-9ffd-4aef-99b6-7f757bcaca9f",
      "cell_type": "code",
      "source": "def vstav(n):\n    for i in range(1, len(n)):\n        item = n[i]\n        i2 = i - 1\n        old_n = n.copy() # можно не писать, для вывода шага\n        \"\"\"Проверяет, что индекс i2 не выходит за границы массива (i2 >= 0) и\n        Сравнивает текущий элемент item с элементом слева (n[i2]). Если n[i2] > item (пример [2, 1]), \n        то элемент n[i2] сдвигается на одну позицию вправо (n[i2 + 1] = n[i2])\"\"\"\n        while i2 >= 0 and n[i2] > item:\n            n[i2 + 1] = n[i2]\n            i2 -= 1\n        n[i2 + 1] = item\n        if old_n != n: # можно не писать, если массив изменился, то принтуем шаг\n            print(*n)\n    return n\n\n\na = [3, 4, 6, 1, 0] #list(map(int, input().split()))\n\nprint('ОТВЕТ ', *vstav(a))\n",
      "metadata": {
        "trusted": true
      },
      "outputs": [
        {
          "name": "stdout",
          "output_type": "stream",
          "text": "1 3 4 6 0\n0 1 3 4 6\nОТВЕТ  0 1 3 4 6\n"
        }
      ],
      "execution_count": 17
    },
    {
      "id": "277b13ad-0fbd-461b-b408-15c3cc96d6bc",
      "cell_type": "markdown",
      "source": "## ПИРАМИДАЛЬНАЯ СОРТИРОВКА (HEAP SORT)",
      "metadata": {}
    },
    {
      "id": "ec98fab5-b789-4711-9a86-aa99cb54ddc0",
      "cell_type": "markdown",
      "source": "Асимптотика пирамидальной сортировки **в худшем, среднем и лучшем случаях — O(n log n)**\n\nИз названия понятно, что это та же куча, но отсортированная.\n\n**ИДЕЯ**: Делаем кучу и извлекаем из нее максимальный элемент. Уменьшаем кучу на 1. Восстанавливаем кучу и так по кругу, пока массив не станет sorted.\n\nДЕТИ — Это просто потомки элемента. Дети могут быть листами или стоять между в дереве.\n\nРОДИТЕЛИ — это элементы, у которых есть хотя бы один ребенок.\n\nВершина может быть родителем и ребенком одновременно.\n\nversh — это индекс текущего \"родительского\" узла, который мы проверяем.     m — это индекс наибольшего элемента среди текущего узла (versh) и его потомков.\n\n\n\n",
      "metadata": {}
    },
    {
      "id": "d831d1e4-e86a-4407-ab94-aa2477ca100e",
      "cell_type": "code",
      "source": "n = 5 # int(input())\nif n > 0:\n    a = [5, 4, 3, 2, 1] # list(map(int, input().split()))\n    dlin = len(a)\n    for i in range(dlin // 2 - 1, -1, -1): # элементы в левой половине массива могут быть родители, а в правой будут дети. Начинаем с родителей.\n        while True:\n            m = versh # родитель\n            l = 2 * versh + 1 # левый ребенок\n            rt = 2 * versh + 2 # правый\n\n            if l < dlin and a[l] > a[m]: # Если левый потомок существует (l < dlin) и больше текущего наибольшего элемента (a[l] > a[m]), обновляем m.\n                m = l\n            if rt < dlin and a[rt] > a[m]: # то же самое для правого\n                m = rt\n            if m != versh: # проверяем удовлетворяет поддерево свойству кучи. Если родитель не равен макс элементу узла то меняем их местами, потому что родитель всегде должен быть больше детей\n                a[versh], a[m] = a[m], a[versh]\n                versh = m\n            else:\n                break\n\n    for i in range(dlin - 1, 0, -1): # всё, у нас вышла куча, осталось её только отсортировать\n        a[i], a[0] = a[0], a[i] # меняем 1 и посл элементы массива. Последний массив, он же бывший корень, максимальный и к тому же находится теперь в конце списка, значит его больше не трогаем\n        dlin -= 1 # а если не трогаем, то длина массива уменьшается на 1\n        r = 0 # это индекс корня, а тк мы поменяли местами, то тут по факту минимальный элемент, а значит его нужно просеить, т е восстановить кучу\n        while True: # делаем абсолютно такой же цикл, как и был до этого, чтобы восстановить кучу\n            m = r\n            l = 2 * r + 1\n            rt = 2 * r + 2\n\n            if l < dlin and a[l] > a[m]:\n                m = l\n            if rt < dlin and a[rt] > a[m]:\n                m = rt\n            if m != r:\n                a[r], a[m] = a[m], a[r]\n                r = m\n            else:\n                break #концуптуально отличие второй половины кода с первой в том, что во второй мы перемещаем максимальные элементы в конец и больше их не трогаем\n\n    print(*a)",
      "metadata": {
        "trusted": true
      },
      "outputs": [
        {
          "name": "stdout",
          "output_type": "stream",
          "text": "1 2 3 4 5\n"
        }
      ],
      "execution_count": 19
    },
    {
      "id": "cbdbc5c9-9acc-4cdc-9425-a7c7474f5212",
      "cell_type": "markdown",
      "source": "## БЫСТРАЯ СОРТИРОВКА",
      "metadata": {}
    },
    {
      "id": "db58501c-22e4-49b1-9ef6-c922959fa287",
      "cell_type": "markdown",
      "source": "Сложность в:\n1) худшем — **O(n²)**\n2) среднем — **O(n log n)**\n3) лучшем — **O(n)**",
      "metadata": {}
    },
    {
      "id": "50f54984-c577-4e16-917a-e623486687bb",
      "cell_type": "code",
      "source": "def quick_sort(arr):\n    # если массив пустой или содержит один элемент, он уже отсортирован\n    if len(arr) <= 1:\n        return arr\n\n    # Выбираем опорный элемент (pivot)\n    pivot = arr[len(arr) // 2]\n\n    # Разделяем массив на три части:\n    left = [x for x in arr if x < pivot]  # Элементы меньше pivot\n    middle = [x for x in arr if x == pivot]  # Элементы равные pivot\n    right = [x for x in arr if x > pivot]  # Элементы больше pivot\n\n    # Рекурсивно сортируем левую и правую части, затем объединяем результаты\n    return quick_sort(left) + middle + quick_sort(right)\n\n\narray = [3, 6, 8, 14, 88, 2, 1]\nprint(*quick_sort(array))",
      "metadata": {
        "trusted": true
      },
      "outputs": [
        {
          "name": "stdout",
          "output_type": "stream",
          "text": "1 2 3 6 8 14 88\n"
        }
      ],
      "execution_count": 20
    }
  ]
}